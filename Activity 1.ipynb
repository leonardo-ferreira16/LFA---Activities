{
 "cells": [
  {
   "cell_type": "code",
   "execution_count": null,
   "id": "faaa0173-88d9-46a7-bde2-6de339ee90b6",
   "metadata": {},
   "outputs": [],
   "source": [
    "ATIVIDADE I - LFA\n",
    "DISCENTE: LEONARDO ABREU FERREIRA"
   ]
  },
  {
   "cell_type": "code",
   "execution_count": null,
   "id": "adaf4dcc-7d6d-4832-ba5d-162a6b8efd67",
   "metadata": {},
   "outputs": [],
   "source": [
    "1. Listagem de Elementos de um Conjunto\n",
    "Como você pode representar o conjunto ( V = {a, e, i, o, u} ) em Python e imprimir seus elementos?"
   ]
  },
  {
   "cell_type": "code",
   "execution_count": 2,
   "id": "5587ee7b-5843-4d92-8d09-11c8721bc183",
   "metadata": {},
   "outputs": [
    {
     "name": "stdout",
     "output_type": "stream",
     "text": [
      "V = {'e', 'o', 'u', 'i', 'a'}\n",
      "\n"
     ]
    }
   ],
   "source": [
    "conjunto_v = {'a','e','i','o','u'}\n",
    "print(f'V = {conjunto_v}\\n')"
   ]
  },
  {
   "cell_type": "code",
   "execution_count": null,
   "id": "868105c5-bb79-4b77-b90a-e1293c3bca47",
   "metadata": {},
   "outputs": [],
   "source": [
    "2. Verificação de Elementos em um Conjunto\n",
    "Dado o conjunto ( V = {a, e, i, o, u} ), como você pode verificar se o elemento 'a' está presente em ( V )?"
   ]
  },
  {
   "cell_type": "code",
   "execution_count": 3,
   "id": "1084256e-c67f-4a19-b8ef-a5a585081fdc",
   "metadata": {},
   "outputs": [
    {
     "name": "stdout",
     "output_type": "stream",
     "text": [
      "\n",
      "O elemento \"a\" esta contido em V\n",
      "\n"
     ]
    }
   ],
   "source": [
    "confirmacao = '\\nO elemento \"a\" esta contido em V\\n' if 'a' in conjunto_v else '\\nO elemento \"a\" não esta contido em V\\n'\n",
    "print(confirmacao)"
   ]
  },
  {
   "cell_type": "code",
   "execution_count": null,
   "id": "ef2dfb18-d1ca-4ced-9339-d6d5be06cc03",
   "metadata": {},
   "outputs": [],
   "source": [
    "3. Criação de um Conjunto com Propriedades Específicas\n",
    "Como você pode criar um conjunto ( B ) em Python que contém todos os números inteiros pares maiores que 10 e menores que 20?"
   ]
  },
  {
   "cell_type": "code",
   "execution_count": 4,
   "id": "4e34471d-70b5-4326-8018-2734d971f1dc",
   "metadata": {},
   "outputs": [
    {
     "name": "stdout",
     "output_type": "stream",
     "text": [
      "B = {16, 18, 12, 14}\n",
      "\n"
     ]
    }
   ],
   "source": [
    "conjunto_B = {x for x in range(11,20) if x%2 == 0}\n",
    "print(f'B = {conjunto_B}\\n') "
   ]
  },
  {
   "cell_type": "code",
   "execution_count": null,
   "id": "8a9bb261-80e7-4483-a52b-fd4d84289908",
   "metadata": {},
   "outputs": [],
   "source": [
    "4. Comparação de Conjuntos\n",
    "Se ( V = {a, e, i, o, u} ) e ( C = {i, o, u} ), como você pode verificar se todos os elementos de ( C ) também estão em ( V )?"
   ]
  },
  {
   "cell_type": "code",
   "execution_count": 5,
   "id": "13ea056b-d387-4724-9a37-af6f37c991fa",
   "metadata": {},
   "outputs": [
    {
     "name": "stdout",
     "output_type": "stream",
     "text": [
      "o esta contigo em V\n",
      "u esta contigo em V\n",
      "i esta contigo em V\n"
     ]
    }
   ],
   "source": [
    "conjunto_c = {'i','o','u'}\n",
    "for element in conjunto_v:\n",
    "    for element2 in conjunto_c:\n",
    "        if element == element2:\n",
    "            print(f'{element} esta contigo em V')"
   ]
  },
  {
   "cell_type": "code",
   "execution_count": null,
   "id": "3bfb9a30-08de-4b65-911e-d96bbd03fe97",
   "metadata": {},
   "outputs": [],
   "source": [
    "5. Descrição de Conjuntos por Compreensão\n",
    "Como você pode representar um conjunto ( D ) em Python que contém todos os números inteiros de 1 a 10 que são divisíveis por 3?"
   ]
  },
  {
   "cell_type": "code",
   "execution_count": 7,
   "id": "38751b3a-db09-4b13-a2e2-2a27974496f6",
   "metadata": {},
   "outputs": [
    {
     "name": "stdout",
     "output_type": "stream",
     "text": [
      "D = {9, 3, 6}\n",
      "\n"
     ]
    }
   ],
   "source": [
    "conjunto_D = {x for x in range(1,10) if x%3==0}\n",
    "print(f'D = {conjunto_D}\\n')"
   ]
  },
  {
   "cell_type": "code",
   "execution_count": null,
   "id": "628f3818-f195-4bc4-a471-d4a83ac830eb",
   "metadata": {},
   "outputs": [],
   "source": [
    "6. União de Conjuntos\n",
    "Dados dois conjuntos ( A = {1, 2, 3} ) e ( B = {3, 4, 5} ), como você pode obter a união de ( A ) e ( B )? "
   ]
  },
  {
   "cell_type": "code",
   "execution_count": 8,
   "id": "7e137349-5ec9-43bc-951b-ab117ed709eb",
   "metadata": {},
   "outputs": [
    {
     "name": "stdout",
     "output_type": "stream",
     "text": [
      "Method 1:\n",
      "Union = {1, 2, 3, 4, 5}\n",
      "\n",
      "Method 2:\n",
      "Union = {1, 2, 3, 4, 5}\n"
     ]
    }
   ],
   "source": [
    "# Method 1:\n",
    "conjunto_A = {1,2,3}\n",
    "conjunto_B = {3,4,5}\n",
    "uniao = conjunto_B.union(conjunto_A)\n",
    "print(f'Method 1:\\nUnion = {uniao}\\n')\n",
    "\n",
    "# Method 2:\n",
    "uniao2 = conjunto_A | conjunto_B\n",
    "print(f'Method 2:\\nUnion = {uniao2}')\n"
   ]
  },
  {
   "cell_type": "code",
   "execution_count": null,
   "id": "3faa0a1d-4b4d-4076-9c68-90851552c71c",
   "metadata": {},
   "outputs": [],
   "source": [
    "7. Interseção de Conjuntos\n",
    "Dado os conjuntos ( A = {1, 2, 3} ) e ( B = {3, 4, 5} ), como você pode encontrar a interseção entre ( A ) e ( B )?"
   ]
  },
  {
   "cell_type": "code",
   "execution_count": 9,
   "id": "7cf16416-8fbc-4200-8568-3a7be05f290a",
   "metadata": {},
   "outputs": [
    {
     "name": "stdout",
     "output_type": "stream",
     "text": [
      "Method 1:\n",
      "Intersection = {3}\n",
      "\n",
      "Method 2:\n",
      "Intersection = {3}\n"
     ]
    }
   ],
   "source": [
    "# Method 1:\n",
    "conjA = {1,2,3}\n",
    "conjB = {3,4,5}\n",
    "intersection1 = conjA.intersection(conjB)\n",
    "print(f'Method 1:\\nIntersection = {intersection1}\\n')\n",
    "\n",
    "# Method 2:\n",
    "intersection2 = conjA & conjB\n",
    "print(f'Method 2:\\nIntersection = {intersection2}')"
   ]
  },
  {
   "cell_type": "code",
   "execution_count": null,
   "id": "4d882709-e898-40de-8f96-79ce31f635a4",
   "metadata": {},
   "outputs": [],
   "source": [
    "8. Diferença entre Conjuntos\n",
    "Como você pode determinar os elementos que estão em ( A = {1, 2, 3} ) mas não estão em ( B = {3, 4, 5} )?"
   ]
  },
  {
   "cell_type": "code",
   "execution_count": 10,
   "id": "209085f3-aad9-41e4-ad20-092a74225754",
   "metadata": {},
   "outputs": [
    {
     "name": "stdout",
     "output_type": "stream",
     "text": [
      "Method 1:\n",
      "Difference = {1, 2}\n",
      "\n",
      "Method 2:\n",
      "Difference = {1, 2}\n"
     ]
    }
   ],
   "source": [
    "# Method 1:\n",
    "dif = conjA.difference(conjB)\n",
    "print(f'Method 1:\\nDifference = {dif}\\n')\n",
    "\n",
    "# Method 2:\n",
    "dif2 = conjA - conjB\n",
    "print(f'Method 2:\\nDifference = {dif2}')\n"
   ]
  },
  {
   "cell_type": "code",
   "execution_count": null,
   "id": "a4aee762-4845-4948-901d-5dcfbbf366c2",
   "metadata": {},
   "outputs": [],
   "source": [
    "9. Simetria de Diferença entre Conjuntos\n",
    "Se ( A = {1, 2, 3} ) e ( B = {3, 4, 5} ), como você pode obter a diferença simétrica entre ( A ) e ( B )?"
   ]
  },
  {
   "cell_type": "code",
   "execution_count": 11,
   "id": "34b84f6c-8b39-45d1-b696-bd161c6d7633",
   "metadata": {},
   "outputs": [
    {
     "name": "stdout",
     "output_type": "stream",
     "text": [
      "Method 1:\n",
      "Symmetric Difference = {1, 2, 4, 5}\n",
      "\n",
      "Method 2:\n",
      "Symmetric Difference = {1, 2, 4, 5}\n"
     ]
    }
   ],
   "source": [
    "# Method 1:\n",
    "sym_dif = conjA.symmetric_difference(conjB)\n",
    "print(f'Method 1:\\nSymmetric Difference = {sym_dif}\\n')\n",
    "\n",
    "# Method 2:\n",
    "sym_dif2 = conjA ^ conjB\n",
    "print(f'Method 2:\\nSymmetric Difference = {sym_dif2}')"
   ]
  },
  {
   "cell_type": "code",
   "execution_count": null,
   "id": "b8f72303-006f-497c-b1cb-47dfc03b3de4",
   "metadata": {},
   "outputs": [],
   "source": [
    "10. Subconjuntos e Superconjuntos\n",
    "Dado ( A = {1, 2, 3} ) e ( B = {1, 2, 3, 4, 5} ), como você pode verificar se ( A ) é um subconjunto de ( B ) e se ( B ) é um superconjunto de ( A )?"
   ]
  },
  {
   "cell_type": "code",
   "execution_count": 12,
   "id": "909e59c3-77da-4b6c-aa3a-6a718c0f09f1",
   "metadata": {},
   "outputs": [
    {
     "name": "stdout",
     "output_type": "stream",
     "text": [
      "True True\n"
     ]
    }
   ],
   "source": [
    "conjuB = {1,2,3,4,5} \n",
    "\n",
    "# Method:\n",
    "subconj = conjA.issubset(conjuB)\n",
    "subconj2 = conjuB.issuperset(conjA)\n",
    "print(subconj,subconj2)"
   ]
  },
  {
   "cell_type": "code",
   "execution_count": null,
   "id": "b602078f-5a04-4a77-8359-94378ea3849b",
   "metadata": {},
   "outputs": [],
   "source": []
  }
 ],
 "metadata": {
  "kernelspec": {
   "display_name": "Python 3 (ipykernel)",
   "language": "python",
   "name": "python3"
  },
  "language_info": {
   "codemirror_mode": {
    "name": "ipython",
    "version": 3
   },
   "file_extension": ".py",
   "mimetype": "text/x-python",
   "name": "python",
   "nbconvert_exporter": "python",
   "pygments_lexer": "ipython3",
   "version": "3.13.2"
  }
 },
 "nbformat": 4,
 "nbformat_minor": 5
}
